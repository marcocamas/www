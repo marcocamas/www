{
 "cells": [
  {
   "cell_type": "markdown",
   "id": "d375d3d5",
   "metadata": {},
   "source": [
    "# MyJupyter Notebook on IBM Watson Studio"
   ]
  },
  {
   "cell_type": "markdown",
   "id": "4f354da7",
   "metadata": {},
   "source": [
    "**Marco Camas**\n",
    "\n",
    "My desired job is Data Scientist"
   ]
  },
  {
   "cell_type": "markdown",
   "id": "30c9b7d5",
   "metadata": {},
   "source": [
    "_I am interested in data science because is cool and modern job_"
   ]
  },
  {
   "cell_type": "markdown",
   "id": "4ae9c0cd",
   "metadata": {},
   "source": [
    "### The below code will add two numbers together"
   ]
  },
  {
   "cell_type": "code",
   "execution_count": 3,
   "id": "f1513467",
   "metadata": {},
   "outputs": [
    {
     "data": {
      "text/plain": [
       "32"
      ]
     },
     "execution_count": 3,
     "metadata": {},
     "output_type": "execute_result"
    }
   ],
   "source": [
    "10 + 22"
   ]
  },
  {
   "cell_type": "markdown",
   "id": "8755d775",
   "metadata": {},
   "source": [
    "1. Data Science\n",
    "- Dream Job\n",
    "\n",
    "(Learn more about data science] (https://www.oracle.com/data-science/what-is-data-science/)"
   ]
  },
  {
   "cell_type": "code",
   "execution_count": null,
   "id": "c925b59d",
   "metadata": {},
   "outputs": [],
   "source": []
  }
 ],
 "metadata": {
  "kernelspec": {
   "display_name": "Python 3 (ipykernel)",
   "language": "python",
   "name": "python3"
  },
  "language_info": {
   "codemirror_mode": {
    "name": "ipython",
    "version": 3
   },
   "file_extension": ".py",
   "mimetype": "text/x-python",
   "name": "python",
   "nbconvert_exporter": "python",
   "pygments_lexer": "ipython3",
   "version": "3.9.7"
  }
 },
 "nbformat": 4,
 "nbformat_minor": 5
}
